{
 "cells": [
  {
   "cell_type": "code",
   "execution_count": 1,
   "metadata": {},
   "outputs": [
    {
     "name": "stdout",
     "output_type": "stream",
     "text": [
      "\n",
      " Reading Training data from train.tsv file\n"
     ]
    }
   ],
   "source": [
    "import numpy as np\n",
    "import pandas as pd\n",
    "from sklearn.model_selection import KFold\n",
    "from sklearn.linear_model import Ridge\n",
    "from sklearn.pipeline import FeatureUnion\n",
    "from sklearn.feature_extraction.text import CountVectorizer, TfidfVectorizer\n",
    "from sklearn.metrics import mean_squared_log_error\n",
    "\n",
    "def split_cat(text):\n",
    "    try: return text.split(\"/\")\n",
    "    except: return (\"No Label\", \"No Label\", \"No Label\")\n",
    "\n",
    "print('\\n Reading Training data from train.tsv file')"
   ]
  },
  {
   "cell_type": "code",
   "execution_count": 2,
   "metadata": {},
   "outputs": [
    {
     "name": "stdout",
     "output_type": "stream",
     "text": [
      "\n",
      " Splitting Category name into general category, sub category 1 and 2\n"
     ]
    }
   ],
   "source": [
    "train = pd.read_table('./Data/train.tsv')\n",
    "test = pd.read_table('./Data/test.tsv')\n",
    "\n",
    "df = pd.concat([train, test], 0)\n",
    "nrow_train = train.shape[0]\n",
    "\n",
    "print('\\n Splitting Category name into general category, sub category 1 and 2')"
   ]
  },
  {
   "cell_type": "code",
   "execution_count": 3,
   "metadata": {},
   "outputs": [
    {
     "name": "stdout",
     "output_type": "stream",
     "text": [
      "There are 11 unique categories.\n",
      "There are 114 unique first sub-categories.\n",
      "There are 883 unique second sub-categories.\n",
      "\n",
      " Applying log transformation on the price\n"
     ]
    }
   ],
   "source": [
    "df['general_cat'], df['subcat_1'], df['subcat_2'] = \\\n",
    "zip(*df['category_name'].apply(lambda x: split_cat(x)))\n",
    "print(\"There are %d unique categories.\" % df['general_cat'].nunique())\n",
    "print(\"There are %d unique first sub-categories.\" % df['subcat_1'].nunique())\n",
    "print(\"There are %d unique second sub-categories.\" % df['subcat_2'].nunique())\n",
    "print('\\n Applying log transformation on the price')"
   ]
  },
  {
   "cell_type": "code",
   "execution_count": 4,
   "metadata": {},
   "outputs": [
    {
     "name": "stdout",
     "output_type": "stream",
     "text": [
      "\n",
      " Filling empty values of brand_name with missing, item_description with None, converting shipping and item_condition_id to strings to handle them with a count vectorizer too.\n"
     ]
    }
   ],
   "source": [
    "y_train = np.log1p(train['price'])\n",
    "\n",
    "print('\\n Filling empty values of brand_name with missing, item_description with None, converting shipping and item_condition_id to strings to handle them with a count vectorizer too.')\n"
   ]
  },
  {
   "cell_type": "code",
   "execution_count": 5,
   "metadata": {},
   "outputs": [
    {
     "name": "stdout",
     "output_type": "stream",
     "text": [
      "\n",
      " Using feature union to combine all the features from all the columns\n"
     ]
    }
   ],
   "source": [
    "df['brand_name'] = df['brand_name'].fillna('missing').astype(str)\n",
    "df['shipping'] = df['shipping'].astype(str)\n",
    "df['item_condition_id'] = df['item_condition_id'].astype(str)\n",
    "df['item_description'] = df['item_description'].fillna('None')\n",
    "# we need a custom pre-processor to extract correct field,\n",
    "# but want to also use default scikit-learn preprocessing (e.g. lowercasing)\n",
    "default_preprocessor = CountVectorizer().build_preprocessor()\n",
    "\n",
    "def build_preprocessor(field):\n",
    "    field_idx = list(df.columns).index(field)\n",
    "    return lambda x: default_preprocessor(x[field_idx])\n",
    "\n",
    "print('\\n Using feature union to combine all the features from all the columns')"
   ]
  },
  {
   "cell_type": "code",
   "execution_count": 6,
   "metadata": {},
   "outputs": [
    {
     "name": "stdout",
     "output_type": "stream",
     "text": [
      "\n",
      " (rows, feature size) (2175894, 156117)\n"
     ]
    }
   ],
   "source": [
    "vectorizer = FeatureUnion([\n",
    "    ('name', CountVectorizer(\n",
    "        ngram_range=(1, 2),\n",
    "        max_features=50000,\n",
    "        lowercase=True,\n",
    "        preprocessor=build_preprocessor('name'))),\n",
    "    ('general_cat', CountVectorizer(\n",
    "        token_pattern='.+',\n",
    "        lowercase=True,\n",
    "        max_features=11,\n",
    "        preprocessor=build_preprocessor('general_cat'))),\n",
    "    ('subcat_1', CountVectorizer(\n",
    "            token_pattern='.+',\n",
    "            max_features=112,\n",
    "            preprocessor=build_preprocessor('subcat_1'))),\n",
    "    ('subcat_2', CountVectorizer(\n",
    "            token_pattern='.+',\n",
    "            max_features=697,\n",
    "            preprocessor=build_preprocessor('subcat_2'))),\n",
    "    ('brand_name', CountVectorizer(\n",
    "        token_pattern='.+',\n",
    "        preprocessor=build_preprocessor('brand_name'))),\n",
    "    ('shipping', CountVectorizer(\n",
    "        token_pattern='\\d+',\n",
    "        preprocessor=build_preprocessor('shipping'))),\n",
    "    ('item_condition_id', CountVectorizer(\n",
    "        token_pattern='\\d+',\n",
    "        preprocessor=build_preprocessor('item_condition_id'))),\n",
    "    ('item_description', TfidfVectorizer(\n",
    "        ngram_range=(1, 3),\n",
    "        max_features=100000,\n",
    "        stop_words=\"english\",\n",
    "        preprocessor=build_preprocessor('item_description'))),\n",
    "])\n",
    "X_train = vectorizer.fit_transform(df.values)\n",
    "print('\\n (rows, feature size)', X_train.shape)"
   ]
  },
  {
   "cell_type": "code",
   "execution_count": 7,
   "metadata": {},
   "outputs": [
    {
     "name": "stdout",
     "output_type": "stream",
     "text": [
      "\n",
      " we have used k fold cross validator, to check how good our model is. We have 10 splits of data, so 9 parts will be used for building the model and 1 part for validation,this will be executed k times\n"
     ]
    }
   ],
   "source": [
    "def get_rmsle(y_true, y_pred):\n",
    "    return np.sqrt(mean_squared_log_error(np.expm1(y_true), np.expm1(y_pred)))\n",
    "\n",
    "print('\\n we have used k fold cross validator, to check how good our model is. We have 10 splits of data, so 9 parts will be used for building the model and 1 part for validation,this will be executed k times')\n"
   ]
  },
  {
   "cell_type": "code",
   "execution_count": 8,
   "metadata": {},
   "outputs": [
    {
     "name": "stdout",
     "output_type": "stream",
     "text": [
      "Valid Root Mean Squared Logarithmic Error: 0.45505206855234553\n"
     ]
    }
   ],
   "source": [
    "cv = KFold(n_splits=10, shuffle=True, random_state=42)\n",
    "for train_ids, valid_ids in cv.split(X_train[:nrow_train]):\n",
    "    #model = linear_model.LinearRegression(copy_X=True, fit_intercept=True, n_jobs=1, normalize=False)\n",
    "    model = Ridge(\n",
    "        solver='auto',\n",
    "        fit_intercept=True,\n",
    "        alpha=0.5,\n",
    "        max_iter=1000,\n",
    "        normalize=False,\n",
    "        tol=0.05)\n",
    "    model.fit(X_train[train_ids], y_train[train_ids])\n",
    "    y_pred_valid = model.predict(X_train[valid_ids])\n",
    "    rmsle = get_rmsle(y_pred_valid, y_train[valid_ids])\n",
    "    print('Valid Root Mean Squared Logarithmic Error:', rmsle)\n",
    "    break"
   ]
  },
  {
   "cell_type": "code",
   "execution_count": 9,
   "metadata": {},
   "outputs": [
    {
     "name": "stdout",
     "output_type": "stream",
     "text": [
      "Using Ridge Regression model\n",
      "Fitting Model\n"
     ]
    }
   ],
   "source": [
    "print(\"Using Ridge Regression model\")\n",
    "model = Ridge(\n",
    "        solver='auto',\n",
    "        fit_intercept=True,\n",
    "        alpha=0.5,\n",
    "        max_iter=1000,\n",
    "        normalize=False,\n",
    "        tol=0.05)\n",
    "print(\"Fitting Model\")"
   ]
  },
  {
   "cell_type": "code",
   "execution_count": 10,
   "metadata": {},
   "outputs": [
    {
     "name": "stdout",
     "output_type": "stream",
     "text": [
      "Predicting Price\n"
     ]
    }
   ],
   "source": [
    "model.fit(X_train[:nrow_train], y_train)\n",
    "X_test = X_train[nrow_train:]\n",
    "print(\"Predicting Price\")"
   ]
  },
  {
   "cell_type": "code",
   "execution_count": 11,
   "metadata": {},
   "outputs": [
    {
     "name": "stdout",
     "output_type": "stream",
     "text": [
      "Saving data in submission_mps_ridgeregression.csv file\n"
     ]
    }
   ],
   "source": [
    "preds = model.predict(X_test)\n",
    "test[\"price\"] = np.expm1(preds)\n",
    "print(\"Saving data in submission_mps_ridgeregression.csv file\")"
   ]
  },
  {
   "cell_type": "code",
   "execution_count": 12,
   "metadata": {},
   "outputs": [
    {
     "name": "stdout",
     "output_type": "stream",
     "text": [
      "Done predictig prices\n"
     ]
    }
   ],
   "source": [
    "test[[\"test_id\", \"price\"]].to_csv(\"submission_mps_ridgeregression.csv\", index = False)\n",
    "print('Done predictig prices')"
   ]
  },
  {
   "cell_type": "code",
   "execution_count": null,
   "metadata": {
    "collapsed": true
   },
   "outputs": [],
   "source": []
  }
 ],
 "metadata": {
  "kernelspec": {
   "display_name": "Python 3",
   "language": "python",
   "name": "python3"
  },
  "language_info": {
   "codemirror_mode": {
    "name": "ipython",
    "version": 3
   },
   "file_extension": ".py",
   "mimetype": "text/x-python",
   "name": "python",
   "nbconvert_exporter": "python",
   "pygments_lexer": "ipython3",
   "version": "3.5.4"
  }
 },
 "nbformat": 4,
 "nbformat_minor": 2
}
